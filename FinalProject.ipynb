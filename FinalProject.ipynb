{
  "nbformat": 4,
  "nbformat_minor": 0,
  "metadata": {
    "colab": {
      "provenance": []
    },
    "kernelspec": {
      "name": "python3",
      "display_name": "Python 3"
    },
    "language_info": {
      "name": "python"
    }
  },
  "cells": [
    {
      "cell_type": "markdown",
      "source": [
        "# Final Project\n",
        "\n",
        "For the following project, you will be working with a movie dataset. The dataset is [here](https://drive.google.com/file/d/1R53inu8Jcb9GGoyiuVnBMVnO7XvCaJAE/view?usp=drive_link). The dataset columns are as follows:\n",
        "\n",
        "* Title: The movie's title\n",
        "* Genre: The movie's genre\n",
        "* Stars: The number of famous actors in the movie\n",
        "* Runtime: The length of the movie's runtime\n",
        "* Budget: How much was spent on filming the movie (in millions)\n",
        "* Promo: How much money was spent promoting the movie (in millions)\n",
        "* Season: The season in which the movie was released\n",
        "* Rating: The movie's rating\n",
        "* R1: Reviewer 1's review\n",
        "* R1: Reviewer 2's review\n",
        "* R1: Reviewer 3's review\n",
        "\n",
        "And the target variable:\n",
        "\n",
        "* Success: Whether the film was a success or a flop\n",
        "\n",
        "Fill in the answers to questions in the text field, and show your code below."
      ],
      "metadata": {
        "id": "y2MZurcV4Dqo"
      }
    },
    {
      "cell_type": "markdown",
      "source": [
        "# Data loading\n",
        "\n",
        "Load the data"
      ],
      "metadata": {
        "id": "pMd--NtS6UYo"
      }
    },
    {
      "cell_type": "code",
      "execution_count": null,
      "metadata": {
        "id": "pPlRDp5R1Di5"
      },
      "outputs": [],
      "source": []
    },
    {
      "cell_type": "markdown",
      "source": [
        "# Data Cleaning\n",
        "\n",
        "List the three biggest data errors below, with a summary of how you fixed them and why you choose that method:\n",
        "\n",
        "\n",
        "*\n",
        "*\n",
        "*"
      ],
      "metadata": {
        "id": "yH21qcym6a03"
      }
    },
    {
      "cell_type": "code",
      "source": [],
      "metadata": {
        "id": "bNLnmnpV4DUY"
      },
      "execution_count": null,
      "outputs": []
    },
    {
      "cell_type": "markdown",
      "source": [
        "# Data Exploration\n",
        "\n",
        "\n",
        "\n"
      ],
      "metadata": {
        "id": "dHokHRPI66lw"
      }
    },
    {
      "cell_type": "markdown",
      "source": [
        "Does Season have a stastically significant impact on a movie's success?\n",
        "\n",
        "**p-value:**"
      ],
      "metadata": {
        "id": "OHbNovM57Lj7"
      }
    },
    {
      "cell_type": "code",
      "source": [],
      "metadata": {
        "id": "XGZlyOBW65-B"
      },
      "execution_count": null,
      "outputs": []
    },
    {
      "cell_type": "markdown",
      "source": [
        "Do seasons have a statistically significant difference in their distribution of content ratings?\n",
        "\n",
        "**p-value:**"
      ],
      "metadata": {
        "id": "OM6_URSkBXDz"
      }
    },
    {
      "cell_type": "code",
      "source": [],
      "metadata": {
        "id": "GtSbRZxOBeXC"
      },
      "execution_count": null,
      "outputs": []
    },
    {
      "cell_type": "markdown",
      "source": [
        "Who is the harshest critic (highest precent of negative reviews)?\n",
        "\n",
        "**Critic:**"
      ],
      "metadata": {
        "id": "rbhSWWp37M2Z"
      }
    },
    {
      "cell_type": "code",
      "source": [],
      "metadata": {
        "id": "92CUkllO7Slx"
      },
      "execution_count": null,
      "outputs": []
    },
    {
      "cell_type": "markdown",
      "source": [
        "What is the covariance between promotional budget and the filming budget?\n",
        "\n",
        "**Cov:**"
      ],
      "metadata": {
        "id": "3H5DlS_E7S1u"
      }
    },
    {
      "cell_type": "code",
      "source": [],
      "metadata": {
        "id": "9ZCJ4P-l7lrE"
      },
      "execution_count": null,
      "outputs": []
    },
    {
      "cell_type": "markdown",
      "source": [
        "# Data Visualization"
      ],
      "metadata": {
        "id": "eiTujTFw7orS"
      }
    },
    {
      "cell_type": "markdown",
      "source": [
        "Create a chart that compares the distribution of the budget for each different number of stars. (It does not need to be particularly appealing."
      ],
      "metadata": {
        "id": "e907N-i-7r5N"
      }
    },
    {
      "cell_type": "code",
      "source": [],
      "metadata": {
        "id": "DZubydmS8eME"
      },
      "execution_count": null,
      "outputs": []
    },
    {
      "cell_type": "markdown",
      "source": [
        "Create a graph showing the average movie budget over time."
      ],
      "metadata": {
        "id": "tUut9r0u8eYu"
      }
    },
    {
      "cell_type": "code",
      "source": [],
      "metadata": {
        "id": "ZG9Fc95v8qRf"
      },
      "execution_count": null,
      "outputs": []
    },
    {
      "cell_type": "markdown",
      "source": [
        "# Feature Engineering\n",
        "\n",
        "List any features you choose to create (if you are creating many features based on one column, you do not need to list them separately.) You are not required to create any features if you do not wish to. You may create any number of additional features.\n",
        "\n",
        "\n",
        "*\n",
        "*"
      ],
      "metadata": {
        "id": "_UqUj1uy80Re"
      }
    },
    {
      "cell_type": "code",
      "source": [],
      "metadata": {
        "id": "zX9EeUKA9c5n"
      },
      "execution_count": null,
      "outputs": []
    },
    {
      "cell_type": "markdown",
      "source": [
        "# Modeling\n",
        "\n",
        "Create a model of your choice.\n",
        "\n",
        "**Model type choosen:**"
      ],
      "metadata": {
        "id": "bj3Rdh229dLW"
      }
    },
    {
      "cell_type": "code",
      "source": [],
      "metadata": {
        "id": "b-adaG_K9mIz"
      },
      "execution_count": null,
      "outputs": []
    },
    {
      "cell_type": "markdown",
      "source": [
        "# Testing"
      ],
      "metadata": {
        "id": "GY8VzL3J9mUi"
      }
    },
    {
      "cell_type": "markdown",
      "source": [
        "Shuffle your data and break it into a 10% test set and 90% training set. Show your model's accuracy on the test set. In order to get full credit, the model's accuracy must be higher than 50%.\n",
        "\n",
        "**Model accuracy:**"
      ],
      "metadata": {
        "id": "ZeLtWCur9p7x"
      }
    },
    {
      "cell_type": "code",
      "source": [],
      "metadata": {
        "id": "D4TIzTVT9o59"
      },
      "execution_count": null,
      "outputs": []
    },
    {
      "cell_type": "markdown",
      "source": [
        "Show the confusion matrix for your model. To get full credit, the percent of false negatives and the percent of false positives must be under 30%. (Divide false negatives by total, and divide false positives by total, and make sure both numbers are under 30%).\n",
        "\n",
        "\n",
        "**False negative rate:**\n",
        "\n",
        "**False positive rate:**"
      ],
      "metadata": {
        "id": "qHtRp8Ip9qAW"
      }
    },
    {
      "cell_type": "code",
      "source": [],
      "metadata": {
        "id": "8-sgv2Ix_Adj"
      },
      "execution_count": null,
      "outputs": []
    },
    {
      "cell_type": "markdown",
      "source": [
        "What was the most important feature for your model? Don't guess, either look up how to check or do your own tests.\n",
        "\n",
        "**Most important feature:**\n"
      ],
      "metadata": {
        "id": "VdxaHXn5_Jt_"
      }
    },
    {
      "cell_type": "code",
      "source": [],
      "metadata": {
        "id": "fTgKIBvV_swo"
      },
      "execution_count": null,
      "outputs": []
    }
  ]
}