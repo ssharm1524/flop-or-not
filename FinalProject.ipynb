{
  "cells": [
    {
      "cell_type": "markdown",
      "metadata": {
        "id": "y2MZurcV4Dqo"
      },
      "source": [
        "# Final Project\n",
        "\n",
        "For the following project, you will be working with a movie dataset. The dataset is [here](https://drive.google.com/file/d/1R53inu8Jcb9GGoyiuVnBMVnO7XvCaJAE/view?usp=drive_link). The dataset columns are as follows:\n",
        "\n",
        "* Title: The movie's title\n",
        "* Genre: The movie's genre\n",
        "* Stars: The number of famous actors in the movie\n",
        "* Runtime: The length of the movie's runtime\n",
        "* Budget: How much was spent on filming the movie (in millions)\n",
        "* Promo: How much money was spent promoting the movie (in millions)\n",
        "* Season: The season in which the movie was released\n",
        "* Rating: The movie's rating\n",
        "* R1: Reviewer 1's review\n",
        "* R1: Reviewer 2's review\n",
        "* R1: Reviewer 3's review\n",
        "\n",
        "And the target variable:\n",
        "\n",
        "* Success: Whether the film was a success or a flop\n",
        "\n",
        "Fill in the answers to questions in the text field, and show your code below.\n",
        "\n",
        "# Shiva Sharma 117912678"
      ]
    },
    {
      "cell_type": "markdown",
      "metadata": {
        "id": "pMd--NtS6UYo"
      },
      "source": [
        "# Data loading\n",
        "\n",
        "Load the data"
      ]
    },
    {
      "cell_type": "code",
      "execution_count": 1,
      "metadata": {
        "id": "pPlRDp5R1Di5"
      },
      "outputs": [],
      "source": [
        "import pandas as pd\n",
        "import numpy as np\n",
        "from flair.data import Sentence\n",
        "from flair.models import TextClassifier\n",
        "\n",
        "df = pd.read_csv('./CMSC320FinalProjectData.csv')"
      ]
    },
    {
      "cell_type": "markdown",
      "metadata": {
        "id": "yH21qcym6a03"
      },
      "source": [
        "# Data Cleaning\n",
        "\n",
        "List the three biggest data errors below, with a summary of how you fixed them and why you choose that method:\n",
        "\n",
        "\n",
        "* **Some columns contain empty values, duplicate values, or incorrect values that don't make sense in the context of that column.** Particulary, runtime contains \"0\" values and stars contain \"100\" values. You can't have a movie with no runtime. You can't give a movie 100/5 stars. To fix these columns I used different forms of imputation on each. On the runtime column I imputed the replacements for the 0 values using the mode of the column values, as runtime is independant from any of the other columns so using the average makes sense. The stars column is a bit different, as we have other columns in the dataset that may point to how many stars a movie should recieve. I performed sentiment analysis on each review to calculate a sentiment score, and then imputed a row's star value by giving it whatever star value the row with the closest sentiment score and success column vlaue had.\n",
        "* **Budget and Promo Data are unscaled and contain outliers.** Both columns have no standard scale for the values and seem to contain wonky large outliers. To fix this, I scaled values below a threshold to represent dollars in millions and dropped outlier values based on Inter Quartile range. This allowed the data to have a consistent and meaningful scale with no outlying values.\n",
        "* **Catergorical Variables** Data contains multiple categorical columns. I fixed this by one hot encoding each of these columns. I did this because the number of unique values for each column were relatively small and one-hot encoding categorical data allows us to incorporate into our machine learning models."
      ]
    },
    {
      "cell_type": "code",
      "execution_count": 2,
      "metadata": {
        "id": "bNLnmnpV4DUY"
      },
      "outputs": [],
      "source": [
        "#one-hot encode success column\n",
        "df['Success'] = df['Success'].apply(lambda x : 1 if x == True else 0)\n",
        "\n",
        "#impute entries with zero runtime \n",
        "df['Runtime'] = df['Runtime'].replace(0, df['Runtime'].mode()[0])\n",
        "\n",
        "#drop duplicate entries\n",
        "duplicates = df[df.duplicated(subset=['Title', 'Year'], keep=False)]\n",
        "df = df.drop_duplicates(subset=['Title', 'Year'], keep='first')\n",
        "df.dropna(inplace=True)\n",
        "\n",
        "#impute entries with 100 stars\n",
        "classifier = TextClassifier.load('en-sentiment')\n",
        "# Replace R1, R2, R3 columns with binary values\n",
        "for review_column in ['R1', 'R2', 'R3']:\n",
        "    # Perform sentiment analysis on reviews using flair\n",
        "    for index, row in df.iterrows():\n",
        "        review = row[review_column]\n",
        "        sentence = Sentence(review)\n",
        "        classifier.predict(sentence)\n",
        "        sentiment_label = sentence.labels[0].value\n",
        "        binary_value = 1 if sentiment_label == 'POSITIVE' else 0\n",
        "        df.at[index, review_column] = binary_value\n",
        "\n",
        "# Create sentiment score column based on the count of positive reviews\n",
        "sentiment_columns = [f'R{i}' for i in range(1, 4)]\n",
        "df['Sentiment_Score'] = df[sentiment_columns].sum(axis=1)\n",
        "\n",
        "# Standardize the Sentiment_Score using z-score\n",
        "mean_sentiment = df['Sentiment_Score'].mean()\n",
        "std_sentiment = df['Sentiment_Score'].std()\n",
        "df['Standardized_Sentiment'] = (df['Sentiment_Score'] - mean_sentiment) / std_sentiment\n",
        "\n",
        "# Impute the Stars column based on standardized sentiment score and success\n",
        "for index, row in df.iterrows():\n",
        "    stars_value = row['Stars']\n",
        "    \n",
        "    # Check if the Stars value is outside the range 0 to 5\n",
        "    if stars_value < 0 or stars_value > 5:\n",
        "        standardized_sentiment = row['Standardized_Sentiment']\n",
        "        success_value = row['Success']\n",
        "\n",
        "        similar_rows = df[(df['Standardized_Sentiment'] == standardized_sentiment) & (df['Success'] == success_value)]\n",
        "\n",
        "        if not similar_rows.empty:\n",
        "            median_stars = similar_rows['Stars'].median()\n",
        "            df.at[index, 'Stars'] = median_stars\n",
        "        else:\n",
        "            # If no rows with the same standardized sentiment score, use the row with the closest sentiment score\n",
        "            closest_row = df.loc[df['Standardized_Sentiment'].sub(standardized_sentiment).abs().idxmin()]\n",
        "            df.at[index, 'Stars'] = closest_row['Stars']\n",
        "\n",
        "# One-hot encode Genre, Season, Rating\n",
        "genre_dummies = pd.get_dummies(df['Genre'], prefix='Genre')\n",
        "season_dummies = pd.get_dummies(df['Season'], prefix='Season')\n",
        "rating_dummies = pd.get_dummies(df['Rating'], prefix='Rating')\n",
        "\n",
        "# Concatenate the one-hot encoded columns to the original DataFrame\n",
        "df = pd.concat([df, genre_dummies, season_dummies, rating_dummies], axis=1)\n",
        "\n",
        "# Drop the original categorical columns\n",
        "#df = df.drop(['Genre', 'Season', 'Rating'], axis=1)\n",
        "\n",
        "# Scale 'Budget' and 'Promo'\n",
        "df['Budget'] = df['Budget'].apply(lambda x: x / 1e6 if x > 1000 else x)\n",
        "df['Promo'] = df['Promo'].apply(lambda x: x / 1e6 if x > 1000 else x)\n",
        "\n",
        "# Function to remove outliers based on IQR\n",
        "def remove_outliers(data, column):\n",
        "    Q1 = data[column].quantile(0.25)\n",
        "    Q3 = data[column].quantile(0.75)\n",
        "    IQR = Q3 - Q1\n",
        "\n",
        "    lower_bound = Q1 - 1.5 * IQR\n",
        "    upper_bound = Q3 + 1.5 * IQR\n",
        "\n",
        "    # Filter out outliers\n",
        "    data = data[(data[column] >= lower_bound) & (data[column] <= upper_bound)]\n",
        "\n",
        "    return data\n",
        "\n",
        "# Remove outliers for 'Budget'\n",
        "df = remove_outliers(df, 'Budget')\n",
        "# Remove outliers for 'Promo'\n",
        "df = remove_outliers(df, 'Promo')\n",
        "\n",
        "\n"
      ]
    },
    {
      "cell_type": "markdown",
      "metadata": {
        "id": "dHokHRPI66lw"
      },
      "source": [
        "# Data Exploration\n",
        "\n",
        "\n",
        "\n"
      ]
    },
    {
      "cell_type": "markdown",
      "metadata": {
        "id": "OHbNovM57Lj7"
      },
      "source": [
        "Does Season have a stastically significant impact on a movie's success?\n",
        "\n",
        "**p-value:** 0.03646643455256725, The relationship between Season and Success is statistically significant using the standard significance value of 0.5"
      ]
    },
    {
      "cell_type": "code",
      "execution_count": 3,
      "metadata": {
        "id": "XGZlyOBW65-B"
      },
      "outputs": [
        {
          "name": "stdout",
          "output_type": "stream",
          "text": [
            "P-value: 0.03646643455256725\n",
            "The relationship between Season and Success is statistically significant.\n"
          ]
        }
      ],
      "source": [
        "from scipy.stats import chi2_contingency\n",
        "\n",
        "observed_data = pd.crosstab(df['Season'], df['Success'])\n",
        "\n",
        "chi2, p, _, _ = chi2_contingency(observed_data)\n",
        "\n",
        "print(f\"P-value: {p}\")\n",
        "\n",
        "alpha = 0.05 \n",
        "if p < alpha:\n",
        "    print(\"The relationship between Season and Success is statistically significant.\")\n",
        "else:\n",
        "    print(\"There is no statistically significant relationship between Season and Success.\")"
      ]
    },
    {
      "cell_type": "markdown",
      "metadata": {
        "id": "OM6_URSkBXDz"
      },
      "source": [
        "Do seasons have a statistically significant difference in their distribution of content ratings?\n",
        "\n",
        "**p-value:** .06864552647460724, There is no statistically significant difference in the distribution of content ratings across seasons."
      ]
    },
    {
      "cell_type": "code",
      "execution_count": 4,
      "metadata": {
        "id": "GtSbRZxOBeXC"
      },
      "outputs": [
        {
          "name": "stdout",
          "output_type": "stream",
          "text": [
            "P-value: 0.06864552647460724\n",
            "There is no statistically significant difference in the distribution of content ratings across seasons.\n"
          ]
        }
      ],
      "source": [
        "contingency_table_ratings = pd.crosstab(df['Rating'], df['Season'])\n",
        "\n",
        "chi2_ratings, p_value_ratings, _, _ = chi2_contingency(contingency_table_ratings)\n",
        "\n",
        "print(f\"P-value: {p_value_ratings}\")\n",
        "\n",
        "alpha = 0.05 \n",
        "if p_value_ratings < alpha:\n",
        "    print(\"There is a statistically significant difference in the distribution of content ratings across seasons.\")\n",
        "else:\n",
        "    print(\"There is no statistically significant difference in the distribution of content ratings across seasons.\")"
      ]
    },
    {
      "cell_type": "markdown",
      "metadata": {
        "id": "rbhSWWp37M2Z"
      },
      "source": [
        "Who is the harshest critic (highest precent of negative reviews)?\n",
        "\n",
        "**Critic:** 1"
      ]
    },
    {
      "cell_type": "code",
      "execution_count": 5,
      "metadata": {
        "id": "92CUkllO7Slx"
      },
      "outputs": [
        {
          "name": "stdout",
          "output_type": "stream",
          "text": [
            "Harshest Critic is Critic 1\n"
          ]
        }
      ],
      "source": [
        "harshest_critic = 0\n",
        "harshest_rate = 0\n",
        "for i in range (1,4):\n",
        "  neg_reviews_percent = 1 - (df[f'R{i}'].sum() / len(df[f'R{i}']))\n",
        "  if neg_reviews_percent > harshest_rate:\n",
        "    harshest_rate = neg_reviews_percent\n",
        "    harshest_critic = i\n",
        "\n",
        "print(f'Harshest Critic is Critic {harshest_critic}')\n"
      ]
    },
    {
      "cell_type": "markdown",
      "metadata": {
        "id": "3H5DlS_E7S1u"
      },
      "source": [
        "What is the covariance between promotional budget and the filming budget?\n",
        "\n",
        "**Cov:** 1031.779920613536"
      ]
    },
    {
      "cell_type": "code",
      "execution_count": 6,
      "metadata": {
        "id": "9ZCJ4P-l7lrE"
      },
      "outputs": [
        {
          "name": "stdout",
          "output_type": "stream",
          "text": [
            "1031.779920613536\n"
          ]
        }
      ],
      "source": [
        "covariance = df[['Promo', 'Budget']].cov().iloc[0,1]\n",
        "print(covariance)"
      ]
    },
    {
      "cell_type": "markdown",
      "metadata": {
        "id": "eiTujTFw7orS"
      },
      "source": [
        "# Data Visualization"
      ]
    },
    {
      "cell_type": "markdown",
      "metadata": {
        "id": "e907N-i-7r5N"
      },
      "source": [
        "Create a chart that compares the distribution of the budget for each different number of stars. (It does not need to be particularly appealing."
      ]
    },
    {
      "cell_type": "code",
      "execution_count": 7,
      "metadata": {
        "id": "DZubydmS8eME"
      },
      "outputs": [
        {
          "data": {
            "image/png": "[encoded data removed]",
            "text/plain": [
              "<Figure size 720x432 with 1 Axes>"
            ]
          },
          "metadata": {
            "needs_background": "light"
          },
          "output_type": "display_data"
        }
      ],
      "source": [
        "import seaborn as sns\n",
        "import matplotlib.pyplot as plt\n",
        "\n",
        "plt.figure(figsize=(10, 6))\n",
        "sns.boxplot(x='Stars', y='Budget', data=df)\n",
        "\n",
        "plt.xlabel('Number of Stars')\n",
        "plt.ylabel('Budget')\n",
        "plt.title('Distribution of Budget for Each Number of Stars')\n",
        "\n",
        "plt.show()"
      ]
    },
    {
      "cell_type": "markdown",
      "metadata": {
        "id": "tUut9r0u8eYu"
      },
      "source": [
        "Create a graph showing the average movie budget over time."
      ]
    },
    {
      "cell_type": "code",
      "execution_count": 8,
      "metadata": {
        "id": "ZG9Fc95v8qRf"
      },
      "outputs": [
        {
          "data": {
            "image/png": "[encoded data removed]",
            "text/plain": [
              "<Figure size 864x432 with 1 Axes>"
            ]
          },
          "metadata": {
            "needs_background": "light"
          },
          "output_type": "display_data"
        }
      ],
      "source": [
        "import matplotlib.pyplot as plt\n",
        "import seaborn as sns\n",
        "\n",
        "df['Year'] = pd.to_datetime(df['Year'], format='%Y')\n",
        "\n",
        "plt.figure(figsize=(12, 6))\n",
        "sns.lineplot(x='Year', y='Budget', data=df.groupby('Year')['Budget'].mean().reset_index())\n",
        "\n",
        "plt.xlabel('Year')\n",
        "plt.ylabel('Average Budget')\n",
        "plt.title('Average Movie Budget Over Time')\n",
        "\n",
        "plt.show()\n"
      ]
    },
    {
      "cell_type": "markdown",
      "metadata": {
        "id": "_UqUj1uy80Re"
      },
      "source": [
        "# Feature Engineering\n",
        "\n",
        "List any features you choose to create (if you are creating many features based on one column, you do not need to list them separately.) You are not required to create any features if you do not wish to. You may create any number of additional features.\n",
        "\n",
        "\n",
        "* One-Hot Encoded categorical columns (season,rating,genere,success)\n",
        "* Performed sentiment analysis on Ratings to change them into binary values (0 for negative sentiment, 1 for positive sentitment)\n",
        "* Created new cloumn called Sentiment_Score to represent the average sentiment score across ratings and standardized it."
      ]
    },
    {
      "cell_type": "markdown",
      "metadata": {
        "id": "bj3Rdh229dLW"
      },
      "source": [
        "# Modeling\n",
        "\n",
        "Create a model of your choice.\n",
        "\n",
        "**Model type choosen:** Random Forest Classifier"
      ]
    },
    {
      "cell_type": "markdown",
      "metadata": {
        "id": "GY8VzL3J9mUi"
      },
      "source": [
        "# Testing"
      ]
    },
    {
      "cell_type": "markdown",
      "metadata": {
        "id": "ZeLtWCur9p7x"
      },
      "source": [
        "Shuffle your data and break it into a 10% test set and 90% training set. Show your model's accuracy on the test set. In order to get full credit, the model's accuracy must be higher than 50%.\n",
        "\n",
        "**Model accuracy:** 0.9411764705882353 -> 94.11764705882353 %"
      ]
    },
    {
      "cell_type": "code",
      "execution_count": 9,
      "metadata": {
        "id": "D4TIzTVT9o59"
      },
      "outputs": [
        {
          "name": "stdout",
          "output_type": "stream",
          "text": [
            "Model Accuracy: 0.9411764705882353\n"
          ]
        }
      ],
      "source": [
        "from sklearn.ensemble import RandomForestClassifier\n",
        "from sklearn.model_selection import train_test_split\n",
        "from sklearn.metrics import accuracy_score\n",
        "import pandas as pd\n",
        "\n",
        "df['Year'] = df['Year'].astype(int)\n",
        "\n",
        "features = ['Runtime', 'Stars', 'Year', 'Budget', 'Promo',\n",
        "            'R1', 'R2', 'R3', 'Sentiment_Score', 'Standardized_Sentiment',\n",
        "            'Genre_Action', 'Genre_Drama', 'Genre_Fantasy', 'Genre_Romantic Comedy',\n",
        "            'Genre_Science fiction', 'Season_Fall', 'Season_Spring',\n",
        "            'Season_Summer', 'Season_Winter', 'Rating_PG', 'Rating_PG13', 'Rating_R']\n",
        "\n",
        "target = 'Success'\n",
        "\n",
        "X = df[features]\n",
        "y = df[target]\n",
        "\n",
        "X_train, X_test, y_train, y_test = train_test_split(X, y, test_size=0.1, random_state=42, shuffle=True)\n",
        "\n",
        "rf_model = RandomForestClassifier(random_state=42)\n",
        "rf_model.fit(X_train, y_train)\n",
        "\n",
        "y_pred = rf_model.predict(X_test)\n",
        "\n",
        "model_accuracy = accuracy_score(y_test, y_pred)\n",
        "print(\"Model Accuracy:\", model_accuracy)\n"
      ]
    },
    {
      "cell_type": "markdown",
      "metadata": {
        "id": "qHtRp8Ip9qAW"
      },
      "source": [
        "Show the confusion matrix for your model. To get full credit, the percent of false negatives and the percent of false positives must be under 30%. (Divide false negatives by total, and divide false positives by total, and make sure both numbers are under 30%).\n",
        "\n",
        "\n",
        "**False negative rate:** 5.88235294117647%\n",
        "\n",
        "**False positive rate:** 0.0%"
      ]
    },
    {
      "cell_type": "code",
      "execution_count": 10,
      "metadata": {
        "id": "8-sgv2Ix_Adj"
      },
      "outputs": [
        {
          "name": "stdout",
          "output_type": "stream",
          "text": [
            "Confusion Matrix:\n",
            "[[40  0]\n",
            " [ 3  8]]\n",
            "Percent of False Negatives: 5.88235294117647\n",
            "Percent of False Positives: 0.0\n"
          ]
        }
      ],
      "source": [
        "from sklearn.metrics import confusion_matrix\n",
        "\n",
        "y_pred = rf_model.predict(X_test)\n",
        "\n",
        "conf_matrix = confusion_matrix(y_test, y_pred)\n",
        "\n",
        "true_negatives, false_positives, false_negatives, true_positives = conf_matrix.ravel()\n",
        "\n",
        "total_samples = len(y_test)\n",
        "\n",
        "percent_false_negatives = (false_negatives / total_samples) * 100\n",
        "percent_false_positives = (false_positives / total_samples) * 100\n",
        "\n",
        "print(\"Confusion Matrix:\")\n",
        "print(conf_matrix)\n",
        "\n",
        "print(\"Percent of False Negatives:\", percent_false_negatives)\n",
        "print(\"Percent of False Positives:\", percent_false_positives)"
      ]
    },
    {
      "cell_type": "markdown",
      "metadata": {
        "id": "VdxaHXn5_Jt_"
      },
      "source": [
        "What was the most important feature for your model? Don't guess, either look up how to check or do your own tests.\n",
        "\n",
        "**Most important feature:** R1\n"
      ]
    },
    {
      "cell_type": "code",
      "execution_count": 11,
      "metadata": {
        "id": "fTgKIBvV_swo"
      },
      "outputs": [
        {
          "name": "stdout",
          "output_type": "stream",
          "text": [
            "Feature Importances:\n",
            "                   Feature  Importance\n",
            "5                       R1    0.405536\n",
            "4                    Promo    0.074685\n",
            "1                    Stars    0.072749\n",
            "3                   Budget    0.072325\n",
            "9   Standardized_Sentiment    0.071760\n",
            "0                  Runtime    0.066778\n",
            "8          Sentiment_Score    0.060272\n",
            "2                     Year    0.036129\n",
            "6                       R2    0.025880\n",
            "7                       R3    0.025549\n",
            "10            Genre_Action    0.015419\n",
            "21                Rating_R    0.010793\n",
            "19               Rating_PG    0.009036\n",
            "17           Season_Summer    0.008625\n",
            "15             Season_Fall    0.007718\n",
            "16           Season_Spring    0.007186\n",
            "11             Genre_Drama    0.007141\n",
            "20             Rating_PG13    0.007117\n",
            "18           Season_Winter    0.005555\n",
            "13   Genre_Romantic Comedy    0.004955\n",
            "14   Genre_Science fiction    0.003070\n",
            "12           Genre_Fantasy    0.001719\n"
          ]
        }
      ],
      "source": [
        "feature_importances = rf_model.feature_importances_\n",
        "\n",
        "feature_importance_df = pd.DataFrame({\n",
        "    'Feature': X_train.columns,\n",
        "    'Importance': feature_importances\n",
        "})\n",
        "\n",
        "feature_importance_df = feature_importance_df.sort_values(by='Importance', ascending=False)\n",
        "\n",
        "print(\"Feature Importances:\")\n",
        "print(feature_importance_df)"
      ]
    }
  ],
  "metadata": {
    "colab": {
      "provenance": []
    },
    "kernelspec": {
      "display_name": "Python 3",
      "name": "python3"
    },
    "language_info": {
      "codemirror_mode": {
        "name": "ipython",
        "version": 3
      },
      "file_extension": ".py",
      "mimetype": "text/x-python",
      "name": "python",
      "nbconvert_exporter": "python",
      "pygments_lexer": "ipython3",
      "version": "3.8.8"
    }
  },
  "nbformat": 4,
  "nbformat_minor": 0
}
